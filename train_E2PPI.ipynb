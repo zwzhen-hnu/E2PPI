{
 "cells": [
  {
   "cell_type": "markdown",
   "id": "f269ee749867f7f0",
   "metadata": {},
   "source": [
    "# config"
   ]
  },
  {
   "cell_type": "code",
   "execution_count": 2,
   "id": "initial_id",
   "metadata": {
    "ExecuteTime": {
     "end_time": "2025-01-22T06:26:55.924352Z",
     "start_time": "2025-01-22T06:26:55.914139Z"
    },
    "collapsed": true,
    "jupyter": {
     "outputs_hidden": true
    }
   },
   "outputs": [],
   "source": [
    "param = {\n",
    "      \"split_mode\": \"random\",\n",
    "      \"input_dim\": 7,\n",
    "      \"output_dim\": 7,\n",
    "      \"ppi_hidden_dim\": 4096,\n",
    "      \"prot_hidden_dim\": 256, \n",
    "      \"ppi_num_layers\": 3,\n",
    "      \"prot_num_layers\": 4,\n",
    "      \"learning_rate\": 1e-4,\n",
    "      \"weight_decay\": 1e-4,\n",
    "      \"max_epoch\": 500,\n",
    "      \"batch_size\": 32,\n",
    "      \"dropout_ratio\": 0.0,\n",
    "      \"commitment_cost\": 0.25,\n",
    "      \"num_embeddings\": 1024, \n",
    "      \"mask_ratio\": 0.15,\n",
    "      \"sce_scale\": 1.5,\n",
    "      \"mask_loss\": 1,\n",
    "      \"seed\": 114514,\n",
    "}"
   ]
  },
  {
   "cell_type": "code",
   "execution_count": 3,
   "id": "e100ccc038034f82",
   "metadata": {
    "ExecuteTime": {
     "end_time": "2025-01-22T06:27:01.448261Z",
     "start_time": "2025-01-22T06:26:59.616335Z"
    }
   },
   "outputs": [],
   "source": [
    "import torch\n",
    "import copy\n",
    "from utils.evaluation import evaluat_metrics,evaluator\n",
    "from dataset.string_dataset import string_dataset,ProteinDatasetDGL,collate1,collate2\n",
    "import random\n",
    "import numpy as np\n",
    "\n",
    "def setup_seed(seed):\n",
    "    torch.manual_seed(seed)\n",
    "    torch.cuda.manual_seed_all(seed)\n",
    "    np.random.seed(seed)\n",
    "    random.seed(seed)\n",
    "    torch.backends.cudnn.deterministic = True\n",
    "setup_seed(param[\"seed\"])\n",
    "\n"
   ]
  },
  {
   "cell_type": "markdown",
   "id": "9d5d8a7ab27b534d",
   "metadata": {},
   "source": [
    "## Data"
   ]
  },
  {
   "cell_type": "code",
   "execution_count": null,
   "id": "f947ded66428aab7",
   "metadata": {},
   "outputs": [],
   "source": [
    "processed_dir = \"/root/autodl-tmp/processed_data/\"\n",
    "#dataset\n",
    "graph_data = ProteinDatasetDGL(processed_dir)\n",
    "edge_data = string_dataset(processed_dir)\n",
    "\n",
    "train_dataset = string_dataset(processed_dir, split_mode = param[\"split_mode\"], mode = 'train')\n",
    "val_dataset = string_dataset(processed_dir, split_mode = param[\"split_mode\"], mode = 'val')\n",
    "test_dataset = string_dataset(processed_dir, split_mode = param[\"split_mode\"], mode = 'test')\n",
    "\n",
    "from torch.utils.data import DataLoader\n",
    "from utils.my_log import getLogger\n",
    "logger = getLogger(\"E2PPI\")\n",
    "\n",
    "graph_loader = DataLoader(graph_data, batch_size=param[\"batch_size\"], shuffle=False, collate_fn=collate1)\n",
    "edge_loader = DataLoader(edge_data, batch_size=param[\"batch_size\"], shuffle=False, collate_fn=collate2)\n",
    "\n",
    "train_loader = DataLoader(train_dataset, batch_size=param[\"batch_size\"], shuffle=False, pin_memory=True, collate_fn=collate2)\n",
    "val_loader = DataLoader(val_dataset, batch_size=param[\"batch_size\"], shuffle=False, pin_memory=True, collate_fn=collate2)\n",
    "test_loader = DataLoader(test_dataset, batch_size=param[\"batch_size\"], shuffle=False, pin_memory=True, collate_fn=collate2)"
   ]
  },
  {
   "cell_type": "markdown",
   "id": "1829ac4286e49b08",
   "metadata": {},
   "source": [
    "# Training"
   ]
  },
  {
   "cell_type": "code",
   "execution_count": null,
   "id": "e112d25941081729",
   "metadata": {},
   "outputs": [],
   "source": [
    "from models.E2PPI import E2PPI\n",
    "model = E2PPI(param,graph_loader,edge_loader, edge_data.ppi_list)\n",
    "device = torch.device(\"cuda\" if torch.cuda.is_available() else \"cpu\")\n",
    "model = model.to(device)\n",
    "\n",
    "optimizer = torch.optim.Adam(\n",
    "    model.parameters(),\n",
    "    lr=param[\"learning_rate\"],\n",
    "    weight_decay=param[\"weight_decay\"],\n",
    ")\n",
    "scheduler = torch.optim.lr_scheduler.ReduceLROnPlateau(optimizer, mode='min', factor=0.5, patience=10, verbose=True)\n",
    "        \n",
    "        \n",
    "es = 0\n",
    "val_best = 0\n",
    "test_val = 0\n",
    "test_best = 0\n",
    "best_epoch = 0\n",
    "\n",
    "for epoch in range(param[\"max_epoch\"]):\n",
    "    f1_sum = 0.0\n",
    "    loss_sum = 0.0\n",
    "    model.train()\n",
    "    for data_dict in train_loader:\n",
    "        data_dict[\"labels\"] = data_dict[\"labels\"].to(device)\n",
    "        output, loss = model(data_dict[\"ppi\"],data_dict[\"labels\"])\n",
    "        \n",
    "        optimizer.zero_grad()\n",
    "        loss.backward()\n",
    "        optimizer.step()\n",
    "\n",
    "        loss_sum += loss.item()\n",
    "        f1_score = evaluat_metrics(output.detach().cpu(), data_dict[\"labels\"].detach().cpu())\n",
    "        f1_sum += f1_score\n",
    "        \n",
    "    scheduler.step(loss_sum / len(train_loader))\n",
    "        \n",
    "    val_f1_score = evaluator(model, val_loader)\n",
    "    test_f1_score = evaluator(model, test_loader)\n",
    "    \n",
    "    logger.info(\"Epoch: {}, Train Loss: {:.5f} | Train: {:.4f}, Val: {:.4f}, Test: {:.4f} | Val Best: {:.4f}, Test Val: {:.4f}, Test Best: {:.4f} | Best Epoch: {}\".format(epoch, loss_sum / len(train_loader), f1_sum / len(train_loader), val_f1_score, test_f1_score, val_best, test_val, test_best, best_epoch))\n",
    "\n",
    "    if test_f1_score > test_best:\n",
    "        test_best = test_f1_score\n",
    "\n",
    "    if val_f1_score >= val_best:\n",
    "        val_best = val_f1_score\n",
    "        test_val = test_f1_score\n",
    "        state = copy.deepcopy(model.state_dict())\n",
    "        es = 0\n",
    "        best_epoch = epoch\n",
    "    else:\n",
    "        es += 1\n",
    "        \n",
    "    if es == 100:\n",
    "        print(\"Early stopping!\")\n",
    "        break"
   ]
  },
  {
   "cell_type": "markdown",
   "id": "5464605a1648be42",
   "metadata": {},
   "source": [
    "# Results"
   ]
  },
  {
   "cell_type": "code",
   "execution_count": null,
   "id": "b4cafd2e81ccfa5a",
   "metadata": {},
   "outputs": [],
   "source": [
    "torch.save(state, \"./saved_models/E2PPI_state.pth\")\n",
    "model.load_state_dict(state)\n",
    "\n",
    "test_f1_score = evaluator(model, test_loader)\n",
    "print(\"results:\",test_f1_score)"
   ]
  }
 ],
 "metadata": {
  "kernelspec": {
   "display_name": "Python 3 (ipykernel)",
   "language": "python",
   "name": "python3"
  },
  "language_info": {
   "codemirror_mode": {
    "name": "ipython",
    "version": 3
   },
   "file_extension": ".py",
   "mimetype": "text/x-python",
   "name": "python",
   "nbconvert_exporter": "python",
   "pygments_lexer": "ipython3",
   "version": "3.8.10"
  }
 },
 "nbformat": 4,
 "nbformat_minor": 5
}
